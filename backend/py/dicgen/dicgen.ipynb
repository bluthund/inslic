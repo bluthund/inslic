{
 "cells": [
  {
   "cell_type": "code",
   "execution_count": 1,
   "metadata": {
    "pycharm": {
     "metadata": false,
     "name": "#%%\n"
    }
   },
   "outputs": [
    {
     "name": "stderr",
     "output_type": "stream",
     "text": [
      "[nltk_data] Downloading package punkt to\n",
      "[nltk_data]     C:\\Users\\bluthund\\AppData\\Roaming\\nltk_data...\n",
      "[nltk_data]   Unzipping tokenizers\\punkt.zip.\n"
     ]
    }
   ],
   "source": [
    "import os,nltk,re,codecs,string,pickle\n",
    "nltk.download('punkt')\n",
    "from nltk import FreqDist\n",
    "from nltk.util import ngrams\n",
    "from nltk.tokenize import word_tokenize\n",
    "from collections import Counter\n",
    "from itertools import groupby"
   ]
  },
  {
   "cell_type": "code",
   "execution_count": 2,
   "metadata": {
    "pycharm": {
     "metadata": false,
     "name": "#%%\n"
    }
   },
   "outputs": [],
   "source": [
    "charmap = [# vowel grouping. Customize as reqd, though this is most optimal, 9 keys\n",
    "           ['ா அஆ','a'],\n",
    "           ['ி ீ இஈ','i'],\n",
    "           ['ு ூ உஊ','u'],\n",
    "           ['ெ ே எஏ','e'],\n",
    "           ['ை ஐ','y'],\n",
    "           ['ொ ோ ஒஓ','o'],\n",
    "           ['ௌ ஔ','w'],\n",
    "           ['ஃ','k'],\n",
    "           ['்','x'],\n",
    "           # consonant grouping. Might experiment with other central shapes and sizes, 10 keys\n",
    "           ['கங','0'],\n",
    "           ['சஞ','1'],\n",
    "           ['டண','2'],\n",
    "           ['தந','3'],\n",
    "           ['பம','4'],\n",
    "           ['யர','5'],\n",
    "           ['லவழ','6'],\n",
    "           ['ளறன','7'],\n",
    "           ['ஜஶஷ','8'],\n",
    "           ['ஸஹ','9']]\n",
    "\n",
    "# characters to remove\n",
    "rmvstr = '௦௧௨௩௪௫௬௭௮௯௰' # to remove all words containing Tamil numerals\n",
    "\n",
    "def codegen(str):\n",
    "    code = str.rsplit(None, 1)[-1]\n",
    "    for map in charmap:\n",
    "        for i in range(0,len(map[0])):\n",
    "            code=re.sub(map[0][i],map[1],code)\n",
    "        # introducing the missing 'a' vowel between two digits\n",
    "        code=re.sub(r'([0-9])([0-9])',r'\\1a\\2',code)\n",
    "        code=re.sub(r'(\\d\\s*$)',r'\\1a',code)\n",
    "        # introducing spaces between two digits\n",
    "    code=re.sub(r'([a-z])',r'\\1',code)\n",
    "    return code\n",
    "\n",
    "def codegroup(file_name,file_temp):\n",
    "    # file_name = fn_bgm\n",
    "    g = codecs.open(file_temp,\"w+\",\"utf-8\")\n",
    "    # sorting lines\n",
    "    with codecs.open(file_name,\"r\",'utf-8') as f:\n",
    "        lines = f.readlines()\n",
    "        lines.sort(key=len)\n",
    "        lines.sort()\n",
    "        f.seek(0)\n",
    "        g.writelines(lines)\n",
    "    f.close()\n",
    "    block = 0 # writeblock for aberrant codes and word pairs\n",
    "    g = codecs.open(file_name,\"w\",\"utf-8\")\n",
    "    with codecs.open(file_temp,\"r\",\"utf-8\") as fin:\n",
    "        lines = (line.split(None, 1) for line in fin if line.strip())\n",
    "        for i,j in groupby(lines, lambda L: L[:1]):\n",
    "            lines = [el[1] for el in j]\n",
    "            # cleaning square brackets from final output\n",
    "            w = str(i)[2:-2]\n",
    "            if re.search(r\"^[a-z]?([0-9][a-z])+$\",w):\n",
    "                g.write('>'+w+'\\r\\n')\n",
    "                block = 0\n",
    "            else:\n",
    "                block = 1\n",
    "            for pair in lines:\n",
    "                # reverse bigram words for subsequent grouping operation\n",
    "                if block == 0:\n",
    "                    rev=pair.split()\n",
    "                    rev.reverse()\n",
    "                    pair = \" \".join(rev)\n",
    "                    g.write(pair+'\\r\\n')\n",
    "        fin.close()\n",
    "    g.close()\n",
    "    \n",
    "def ltf(file_name,file_temp,list):\n",
    "    f = codecs.open(file_name,\"w\",'utf-8')\n",
    "    for item in list:\n",
    "        # removing unwanted characters\n",
    "        item_clean = re.sub(\"[(),\\',0-9]*\", \"\",str(item))\n",
    "        # removing excess P<space> strings\n",
    "        item_clean = re.sub(\"(P\\s)+\",\"P \",item_clean)\n",
    "        # removing more unwanted Ps\n",
    "        item_clean = re.sub(r\"P([^\\s\\r])\",r\"\\1\",item_clean)\n",
    "        # removing trailing spaces\n",
    "        item_clean = re.sub(\"\\s$\",\"\",item_clean)\n",
    "        if item_clean[-1] != 'P':\n",
    "            code = codegen(item_clean)\n",
    "            f.write(code + ' ' + item_clean + '\\r\\n')\n",
    "    f.close()\n",
    "    codegroup(file_name,file_temp)\n",
    "        \n",
    "def ftl(file_name):\n",
    "    results = []\n",
    "    f = codecs.open(file_name,'r','utf-8')\n",
    "    for line in f:\n",
    "        results.append(line.replace('\\r\\n', ''))\n",
    "    f.close()\n",
    "    return results\n",
    "\n",
    "def textclean(file_name,file_temp):\n",
    "    with codecs.open(file_name, \"r\",\"utf-8\") as fin:\n",
    "        with codecs.open(file_temp, \"w\",\"utf-8\") as fout:\n",
    "            for line in fin:\n",
    "                # punctuation conversion\n",
    "                line = re.sub(\"[!\\.\\?\\(\\)\\'/\\\"\\-\\:\\[\\]\\|]+\",\" P \",line)\n",
    "                line = line.replace(\",\",\"\")\n",
    "                # removing words with Tamil numerals (infrequent usage compared to Arabic numerals i.e 0123456789)\n",
    "                line = re.sub(\"\\s[^\\s]*[%s]+[^\\s]*\\s\" %rmvstr,\" \",line)\n",
    "                \n",
    "                # keeping only Tamil unicode charset\n",
    "                # adding letters from charmap to regex string\n",
    "                regex = ''\n",
    "                for map in charmap:\n",
    "                    for i in range(0,len(map[0])):\n",
    "                        regex += map[0][i]\n",
    "                line=re.sub('[^P %s]' %regex,\"\",line)\n",
    "                    \n",
    "                # removing extra whitespaces and Ps\n",
    "                line = re.sub(\"(P )+\",\"P \",line)\n",
    "                line = re.sub(\"\\s+\",\" \",line)\n",
    "                \n",
    "                k = re.split(r'\\s+',line)\n",
    "                for i in k:\n",
    "                    if i != '':\n",
    "                        fout.write(i+' ')\n",
    "                fout.write('\\r\\n')\n",
    "    fin.close()\n",
    "    fout.close()"
   ]
  },
  {
   "cell_type": "code",
   "execution_count": 47,
   "metadata": {
    "pycharm": {
     "metadata": false,
     "name": "#%%\n"
    }
   },
   "outputs": [],
   "source": [
    "fn_src = \"sample\"\n",
    "fn_bgm = \"bgm\"\n",
    "fn_tmp = \"temp\" # stores cleaned source text\n",
    "\n",
    "textclean(fn_src,fn_tmp)\n",
    "\n",
    "rwtxt = codecs.open(fn_tmp,\"r\",\"utf-8\")\n",
    "bitxt = codecs.open(fn_bgm,\"w+\",\"utf-8\")\n",
    "rwtxt_r = rwtxt.read()\n",
    "\n",
    "token = word_tokenize(rwtxt_r)\n",
    "\n",
    "#Create your bigrams\n",
    "bigrm = ngrams(token,2)\n",
    "bigrm_count = Counter(bigrm)\n",
    "bigrm_list = list(bigrm_count.items())\n",
    "\n",
    "ltf(fn_bgm,fn_tmp,bigrm_list)"
   ]
  }
 ],
 "metadata": {
  "kernelspec": {
   "display_name": "Python 3",
   "language": "python",
   "name": "python3"
  },
  "language_info": {
   "codemirror_mode": {
    "name": "ipython",
    "version": 3
   },
   "file_extension": ".py",
   "mimetype": "text/x-python",
   "name": "python",
   "nbconvert_exporter": "python",
   "pygments_lexer": "ipython3",
   "version": "3.7.1"
  },
  "stem_cell": {
   "cell_type": "raw",
   "metadata": {
    "pycharm": {
     "metadata": false
    }
   },
   "source": ""
  }
 },
 "nbformat": 4,
 "nbformat_minor": 2
}
