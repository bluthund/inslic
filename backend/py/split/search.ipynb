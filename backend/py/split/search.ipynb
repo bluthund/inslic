{
 "cells": [
  {
   "cell_type": "code",
   "execution_count": 50,
   "metadata": {},
   "outputs": [
    {
     "name": "stderr",
     "output_type": "stream",
     "text": [
      "[nltk_data] Downloading package punkt to\n",
      "[nltk_data]     C:\\Users\\DELL\\AppData\\Roaming\\nltk_data...\n",
      "[nltk_data]   Package punkt is already up-to-date!\n"
     ]
    }
   ],
   "source": [
    "import os,nltk,re,codecs,string,json\n",
    "nltk.download('punkt')\n",
    "from nltk import FreqDist\n",
    "from nltk.util import ngrams\n",
    "from nltk.tokenize import word_tokenize\n",
    "from collections import Counter\n",
    "from itertools import groupby"
   ]
  },
  {
   "cell_type": "code",
   "execution_count": 51,
   "metadata": {},
   "outputs": [],
   "source": [
    "trie = {}\n",
    "\n",
    "def getpairs(code):\n",
    "    # initializations\n",
    "    k = 0\n",
    "    c = code[:1]\n",
    "    \n",
    "    # pulling trie dict from file\n",
    "    with open('./code/book') as js:  \n",
    "        trie = json.load(js)\n",
    "    addr = trie[c][code]\n",
    "    \n",
    "    # opening file to retrieved address\n",
    "    f = codecs.open('./code/%s' %c,'r','utf-8')\n",
    "    lines = f.readlines()[addr:]\n",
    "    # calculating limits of lines to retrieve\n",
    "    for k,line in enumerate(lines):\n",
    "        if line[:2] == '>>':\n",
    "            break\n",
    "    return lines[:k] # final required set\n",
    "\n",
    "def clean(text):\n",
    "    # cleaning input text for bigram search\n",
    "    text_clean = re.sub(\"[!\\.\\?\\(\\)\\'/\\\"\\-\\:\\[\\]\\|]+\",\" P \",text)\n",
    "    text_clean = text_clean.replace(\",\",\"\")\n",
    "    # Markovian pair i.e. last 2 words alone from input\n",
    "    return text_clean.split()[-2:]\n",
    "\n",
    "def suggest(code,text):\n",
    "    lines = getpairs(code)\n",
    "    text = clean(text)\n",
    "    a = text[0] # for 1-skip-2-gram support\n",
    "    b = text[1] # for normal bigram\n",
    "    sug = [] # word suggestions\n",
    "    temp = ''\n",
    "    for line in lines:\n",
    "        if line[:1] == '>':\n",
    "            temp = line[1:-2]\n",
    "        elif line[:-2] == a or line[:-2] == b:\n",
    "            if len(sug) == 0 or sug[-1] != temp:\n",
    "                sug.append(temp)\n",
    "    return sug"
   ]
  },
  {
   "cell_type": "code",
   "execution_count": 53,
   "metadata": {},
   "outputs": [
    {
     "data": {
      "text/plain": [
       "['காகபுஜுண்டர்']"
      ]
     },
     "execution_count": 53,
     "metadata": {},
     "output_type": "execute_result"
    }
   ],
   "source": [
    "code = '0a0a4x' # currently typed code\n",
    "text =  'இணைப்பதற். தொழுகைக்' # typed words thus far\n",
    "\n",
    "# suggestions working perfect!\n",
    "suggest(code,text)"
   ]
  },
  {
   "cell_type": "code",
   "execution_count": 38,
   "metadata": {},
   "outputs": [
    {
     "ename": "KeyError",
     "evalue": "0",
     "output_type": "error",
     "traceback": [
      "\u001b[1;31m---------------------------------------------------------------------------\u001b[0m",
      "\u001b[1;31mKeyError\u001b[0m                                  Traceback (most recent call last)",
      "\u001b[1;32m<ipython-input-38-7e5b793ad887>\u001b[0m in \u001b[0;36m<module>\u001b[1;34m\u001b[0m\n\u001b[1;32m----> 1\u001b[1;33m \u001b[0mtrie\u001b[0m\u001b[1;33m[\u001b[0m\u001b[1;36m0\u001b[0m\u001b[1;33m]\u001b[0m\u001b[1;33m\u001b[0m\u001b[1;33m\u001b[0m\u001b[0m\n\u001b[0m",
      "\u001b[1;31mKeyError\u001b[0m: 0"
     ]
    }
   ],
   "source": []
  },
  {
   "cell_type": "code",
   "execution_count": null,
   "metadata": {},
   "outputs": [],
   "source": []
  }
 ],
 "metadata": {
  "kernelspec": {
   "display_name": "Python 3",
   "language": "python",
   "name": "python3"
  },
  "language_info": {
   "codemirror_mode": {
    "name": "ipython",
    "version": 3
   },
   "file_extension": ".py",
   "mimetype": "text/x-python",
   "name": "python",
   "nbconvert_exporter": "python",
   "pygments_lexer": "ipython3",
   "version": "3.7.7"
  }
 },
 "nbformat": 4,
 "nbformat_minor": 4
}
