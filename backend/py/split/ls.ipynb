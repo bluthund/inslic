{
 "cells": [
  {
   "cell_type": "code",
   "execution_count": 1,
   "metadata": {},
   "outputs": [
    {
     "name": "stderr",
     "output_type": "stream",
     "text": [
      "[nltk_data] Downloading package punkt to\n",
      "[nltk_data]     C:\\Users\\sysadmin\\AppData\\Roaming\\nltk_data...\n",
      "[nltk_data]   Unzipping tokenizers\\punkt.zip.\n"
     ]
    }
   ],
   "source": [
    "import os,nltk,re,codecs,string,linecache\n",
    "nltk.download('punkt')\n",
    "from nltk import FreqDist\n",
    "from nltk.util import ngrams\n",
    "from nltk.tokenize import word_tokenize\n",
    "from collections import Counter\n",
    "from itertools import groupby"
   ]
  },
  {
   "cell_type": "code",
   "execution_count": null,
   "metadata": {},
   "outputs": [],
   "source": [
    "import pickle\n",
    "def fsg(file_name):\n",
    "    trie = {}\n",
    "    subtrie = {}\n",
    "    with codecs.open(file_name,\"r\",'utf-8') as f:\n",
    "        lines = f.readlines()\n",
    "        c = ''\n",
    "        g = ''\n",
    "        k = ''\n",
    "        clines = []\n",
    "        wordpos = 0\n",
    "        for item in lines:\n",
    "            if item[:1] == '>': # checks for chevron\n",
    "                if item[1:2] != c: # break for newfile\n",
    "                    if c != '':\n",
    "                        trie[c] = subtrie\n",
    "                    c = item[1:2]\n",
    "                    # write any remaining lines in current file\n",
    "                    if clines:\n",
    "                        for line in clines:\n",
    "                            g.write(line)\n",
    "                    # init new file & write 1st element\n",
    "                    g = codecs.open(\"./code/%s\" %c,\"w+\",'utf-8')\n",
    "                    g.write('>'+item)\n",
    "                    # reset position counters\n",
    "                    wordpos = 1\n",
    "                    subtrie = {item[1:-2]:1}\n",
    "                elif item[1:2] == c:\n",
    "                    clines.append('>'+item)\n",
    "                    subtrie[item[1:-2]] = wordpos+len(clines)\n",
    "            else:\n",
    "                w = item.split(' ', 1)[0] # first word\n",
    "                p = item.split(' ', 1)[1] # second word\n",
    "                if k == '': # initializing\n",
    "                    k = w\n",
    "                # grouping prewords\n",
    "                if w == k:\n",
    "                    clines.append(p)\n",
    "                elif w != k:\n",
    "                    clines.append('>'+k+'\\r\\n')\n",
    "                    k = w\n",
    "                    for line in clines:\n",
    "                        g.write(line)\n",
    "                        wordpos+=1\n",
    "                    #print(wordpos) #here gives position of words\n",
    "                    clines.clear()\n",
    "                    clines.append(p)\n",
    "        g.close()\n",
    "    f.close()\n",
    "    \n",
    "    # write trie to file\n",
    "    with open(\"./code/book\", \"wb\") as book:\n",
    "        pickle.dump(trie,book)\n",
    "    book.close()"
   ]
  },
  {
   "cell_type": "code",
   "execution_count": null,
   "metadata": {},
   "outputs": [],
   "source": [
    "# MAIN\n",
    "fsg(\"C:/Users/bluthund/Desktop/project/py/dicgen/bgm\")"
   ]
  },
  {
   "cell_type": "code",
   "execution_count": null,
   "metadata": {},
   "outputs": [],
   "source": []
  },
  {
   "cell_type": "code",
   "execution_count": null,
   "metadata": {},
   "outputs": [],
   "source": []
  },
  {
   "cell_type": "code",
   "execution_count": null,
   "metadata": {},
   "outputs": [],
   "source": []
  }
 ],
 "metadata": {
  "kernelspec": {
   "display_name": "Python 3",
   "language": "python",
   "name": "python3"
  },
  "language_info": {
   "codemirror_mode": {
    "name": "ipython",
    "version": 3
   },
   "file_extension": ".py",
   "mimetype": "text/x-python",
   "name": "python",
   "nbconvert_exporter": "python",
   "pygments_lexer": "ipython3",
   "version": "3.7.7"
  }
 },
 "nbformat": 4,
 "nbformat_minor": 4
}
